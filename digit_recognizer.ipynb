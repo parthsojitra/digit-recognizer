{
  "nbformat": 4,
  "nbformat_minor": 0,
  "metadata": {
    "colab": {
      "name": "digit recognizer.ipynb",
      "provenance": []
    },
    "kernelspec": {
      "name": "python3",
      "display_name": "Python 3"
    }
  },
  "cells": [
    {
      "cell_type": "code",
      "metadata": {
        "id": "lCGKf23bG6Y-",
        "colab_type": "code",
        "outputId": "3a177816-79fa-48d2-cdef-9257b99d4cad",
        "colab": {
          "base_uri": "https://localhost:8080/",
          "height": 54
        }
      },
      "source": [
        "from google.colab import drive\n",
        "drive.mount('/content/drive')"
      ],
      "execution_count": 0,
      "outputs": [
        {
          "output_type": "stream",
          "text": [
            "Drive already mounted at /content/drive; to attempt to forcibly remount, call drive.mount(\"/content/drive\", force_remount=True).\n"
          ],
          "name": "stdout"
        }
      ]
    },
    {
      "cell_type": "code",
      "metadata": {
        "id": "Zwdvh71RGziC",
        "colab_type": "code",
        "outputId": "80613a64-526e-4e48-9f47-b9ba3a8bd79e",
        "colab": {
          "base_uri": "https://localhost:8080/",
          "height": 34
        }
      },
      "source": [
        "import os\n",
        "import tensorflow as tf\n",
        "from tensorflow.keras.preprocessing.image import ImageDataGenerator\n",
        "from tensorflow.keras.optimizers import RMSprop\n",
        "import pandas as pd\n",
        "import matplotlib.pyplot as plt\n",
        "import numpy as np\n",
        "from keras.utils import np_utils"
      ],
      "execution_count": 0,
      "outputs": [
        {
          "output_type": "stream",
          "text": [
            "Using TensorFlow backend.\n"
          ],
          "name": "stderr"
        }
      ]
    },
    {
      "cell_type": "code",
      "metadata": {
        "id": "J4f7SCGrHg5T",
        "colab_type": "code",
        "colab": {}
      },
      "source": [
        "model = tf.keras.models.Sequential([\n",
        "    tf.keras.layers.Conv2D(16, (3,3), activation='relu', input_shape=(28,28,1)),\n",
        "    tf.keras.layers.MaxPooling2D(2,2),\n",
        "    \n",
        "    tf.keras.layers.Conv2D(32, (3,3), activation='relu', strides=2),\n",
        "    \n",
        "    tf.keras.layers.Conv2D(64, (3,3), activation='relu'),\n",
        "    tf.keras.layers.MaxPooling2D(2,2),\n",
        "    \n",
        "    tf.keras.layers.Flatten(),\n",
        "    tf.keras.layers.Dense(512, activation='relu'),\n",
        "    tf.keras.layers.Dense(10, activation='softmax')\n",
        "])"
      ],
      "execution_count": 0,
      "outputs": []
    },
    {
      "cell_type": "code",
      "metadata": {
        "id": "yuHWpEozHlbH",
        "colab_type": "code",
        "colab": {}
      },
      "source": [
        "model.compile(optimizer = tf.train.AdamOptimizer(),\n",
        "              loss = 'categorical_crossentropy',\n",
        "              metrics=['accuracy'])"
      ],
      "execution_count": 0,
      "outputs": []
    },
    {
      "cell_type": "code",
      "metadata": {
        "id": "5YVs6IvEHtXX",
        "colab_type": "code",
        "colab": {}
      },
      "source": [
        "train_data = pd.read_csv(\"/content/drive/My Drive/ML data/digit recognizer/train.csv\")\n",
        "test_data = pd.read_csv(\"/content/drive/My Drive/ML data/digit recognizer/test.csv\")"
      ],
      "execution_count": 0,
      "outputs": []
    },
    {
      "cell_type": "code",
      "metadata": {
        "id": "I5Loj_1BIP5G",
        "colab_type": "code",
        "colab": {}
      },
      "source": [
        "train_label = train_data.iloc[:,0]\n",
        "train_image = train_data.iloc[:,1:]\n",
        "test_image = test_data\n",
        "\n",
        "train_image = np.reshape(train_image.values, (42000,28,28,1))\n",
        "test_image = np.reshape(test_image.values, (28000,28,28,1))\n",
        "\n",
        "from keras.utils import to_categorical\n",
        "train_label = to_categorical(train_label)\n",
        "\n",
        "train_images  = train_image / 255.0\n",
        "test_images = test_image / 255.0"
      ],
      "execution_count": 0,
      "outputs": []
    },
    {
      "cell_type": "code",
      "metadata": {
        "id": "9U6RyxwwIcUf",
        "colab_type": "code",
        "outputId": "b928f184-444d-4232-bca2-bbdac2d9258b",
        "colab": {
          "base_uri": "https://localhost:8080/",
          "height": 1000
        }
      },
      "source": [
        "model.fit(train_images, train_label, epochs=30)"
      ],
      "execution_count": 0,
      "outputs": [
        {
          "output_type": "stream",
          "text": [
            "Epoch 1/30\n",
            "42000/42000 [==============================] - 28s 657us/sample - loss: 0.1897 - acc: 0.9412\n",
            "Epoch 2/30\n",
            "42000/42000 [==============================] - 27s 652us/sample - loss: 0.0583 - acc: 0.9815\n",
            "Epoch 3/30\n",
            "42000/42000 [==============================] - 27s 650us/sample - loss: 0.0397 - acc: 0.9875\n",
            "Epoch 4/30\n",
            "42000/42000 [==============================] - 28s 658us/sample - loss: 0.0307 - acc: 0.9902\n",
            "Epoch 5/30\n",
            "42000/42000 [==============================] - 28s 659us/sample - loss: 0.0248 - acc: 0.9918\n",
            "Epoch 6/30\n",
            "42000/42000 [==============================] - 28s 658us/sample - loss: 0.0178 - acc: 0.9946\n",
            "Epoch 7/30\n",
            "42000/42000 [==============================] - 28s 657us/sample - loss: 0.0185 - acc: 0.9937\n",
            "Epoch 8/30\n",
            "42000/42000 [==============================] - 28s 658us/sample - loss: 0.0141 - acc: 0.9952\n",
            "Epoch 9/30\n",
            "42000/42000 [==============================] - 28s 675us/sample - loss: 0.0127 - acc: 0.9957\n",
            "Epoch 10/30\n",
            "42000/42000 [==============================] - 28s 673us/sample - loss: 0.0105 - acc: 0.9966\n",
            "Epoch 11/30\n",
            "42000/42000 [==============================] - 28s 662us/sample - loss: 0.0101 - acc: 0.9968\n",
            "Epoch 12/30\n",
            "42000/42000 [==============================] - 28s 659us/sample - loss: 0.0118 - acc: 0.9958\n",
            "Epoch 13/30\n",
            "42000/42000 [==============================] - 28s 662us/sample - loss: 0.0065 - acc: 0.9980\n",
            "Epoch 14/30\n",
            "42000/42000 [==============================] - 28s 666us/sample - loss: 0.0079 - acc: 0.9977\n",
            "Epoch 15/30\n",
            "42000/42000 [==============================] - 28s 657us/sample - loss: 0.0082 - acc: 0.9974\n",
            "Epoch 16/30\n",
            "42000/42000 [==============================] - 28s 662us/sample - loss: 0.0097 - acc: 0.9970\n",
            "Epoch 17/30\n",
            "42000/42000 [==============================] - 28s 665us/sample - loss: 0.0049 - acc: 0.9986\n",
            "Epoch 18/30\n",
            "42000/42000 [==============================] - 27s 652us/sample - loss: 0.0071 - acc: 0.9979\n",
            "Epoch 19/30\n",
            "42000/42000 [==============================] - 28s 655us/sample - loss: 0.0079 - acc: 0.9975\n",
            "Epoch 20/30\n",
            "42000/42000 [==============================] - 28s 671us/sample - loss: 0.0071 - acc: 0.9978\n",
            "Epoch 21/30\n",
            "42000/42000 [==============================] - 28s 675us/sample - loss: 0.0044 - acc: 0.9985\n",
            "Epoch 22/30\n",
            "42000/42000 [==============================] - 28s 665us/sample - loss: 0.0051 - acc: 0.9987\n",
            "Epoch 23/30\n",
            "42000/42000 [==============================] - 28s 668us/sample - loss: 0.0080 - acc: 0.9976\n",
            "Epoch 24/30\n",
            "42000/42000 [==============================] - 28s 673us/sample - loss: 0.0056 - acc: 0.9984\n",
            "Epoch 25/30\n",
            "42000/42000 [==============================] - 28s 675us/sample - loss: 0.0070 - acc: 0.9980\n",
            "Epoch 26/30\n",
            "42000/42000 [==============================] - 28s 672us/sample - loss: 0.0046 - acc: 0.9985\n",
            "Epoch 27/30\n",
            "42000/42000 [==============================] - 28s 662us/sample - loss: 0.0047 - acc: 0.9989\n",
            "Epoch 28/30\n",
            "42000/42000 [==============================] - 28s 667us/sample - loss: 0.0068 - acc: 0.9978\n",
            "Epoch 29/30\n",
            "42000/42000 [==============================] - 28s 670us/sample - loss: 0.0040 - acc: 0.9989\n",
            "Epoch 30/30\n",
            "42000/42000 [==============================] - 28s 667us/sample - loss: 0.0068 - acc: 0.9982\n"
          ],
          "name": "stdout"
        },
        {
          "output_type": "execute_result",
          "data": {
            "text/plain": [
              "<tensorflow.python.keras.callbacks.History at 0x7f1e6b1de588>"
            ]
          },
          "metadata": {
            "tags": []
          },
          "execution_count": 25
        }
      ]
    },
    {
      "cell_type": "code",
      "metadata": {
        "id": "gSS7k039JDV1",
        "colab_type": "code",
        "outputId": "ad595fc5-6cda-44b3-a28b-cd9d76816565",
        "colab": {
          "base_uri": "https://localhost:8080/",
          "height": 34
        }
      },
      "source": [
        "result = model.predict_classes(test_images)\n",
        "print(result[:10])\n",
        "\n",
        "import csv\n",
        "\n",
        "csvData = [['ImageId', 'Label']]\n",
        "a=1\n",
        "for i in range(28000):\n",
        "  csvData.append([a,result[i]])\n",
        "  a+=1\n",
        "  \n",
        "with open('mnist by parth.csv', 'w') as csvFile:\n",
        "  writer = csv.writer(csvFile)\n",
        "  writer.writerows(csvData)\n",
        "  \n",
        "csvFile.close()"
      ],
      "execution_count": 0,
      "outputs": [
        {
          "output_type": "stream",
          "text": [
            "[2 0 9 0 3 7 0 3 0 3]\n"
          ],
          "name": "stdout"
        }
      ]
    },
    {
      "cell_type": "code",
      "metadata": {
        "id": "FcrbJtgrKPW_",
        "colab_type": "code",
        "colab": {}
      },
      "source": [
        ""
      ],
      "execution_count": 0,
      "outputs": []
    }
  ]
}